{
 "cells": [
  {
   "cell_type": "markdown",
   "metadata": {},
   "source": [
    "This notebook contains the code for cleaning the scraped articles' contents."
   ]
  },
  {
   "cell_type": "code",
   "execution_count": null,
   "metadata": {},
   "outputs": [],
   "source": [
    "import json\n",
    "import pandas as pd\n",
    "import os "
   ]
  },
  {
   "cell_type": "code",
   "execution_count": null,
   "metadata": {},
   "outputs": [],
   "source": [
    "# list contains all the data (article titles and text)\n",
    "data = []\n",
    "\n",
    "# opens all content files and adds to them to data list\n",
    "for i in range(1, 17):\n",
    "    with open(f\"backup{i}.json\", \"r\", encoding=\"utf8\") as file:\n",
    "\n",
    "        # the concatenate \"+=\" takes the elements from the list in the json file and adds them to the data list\n",
    "        data += json.load(file)\n",
    "\n",
    "len(data)"
   ]
  },
  {
   "cell_type": "markdown",
   "metadata": {},
   "source": [
    "Note: The scraped content contains quotation marks that are foregone by a reverse slash \"\\\". This is because the code needs to distinguish between the quotation marks of the string and the quotation marks contained in the actual text. However, since this happens only when we switch between data types, when we return using the strings in normal Python code, the reverse slashes are automatically removed. "
   ]
  },
  {
   "cell_type": "code",
   "execution_count": null,
   "metadata": {},
   "outputs": [],
   "source": [
    "# create data frame with columns \"title\" and \"text\"\n",
    "df = pd.DataFrame(data)\n",
    "\n",
    "# removes articles with duplicate titles\n",
    "df = df.drop_duplicates(subset = ['title'])\n",
    "\n",
    "len(df)"
   ]
  },
  {
   "cell_type": "code",
   "execution_count": null,
   "metadata": {},
   "outputs": [],
   "source": [
    "# saves data frame as a CSV file (comma separated file)\n",
    "df.to_csv(\"total_data.csv\")"
   ]
  }
 ],
 "metadata": {
  "kernelspec": {
   "display_name": "Python 3.10.4 64-bit",
   "language": "python",
   "name": "python3"
  },
  "language_info": {
   "codemirror_mode": {
    "name": "ipython",
    "version": 3
   },
   "file_extension": ".py",
   "mimetype": "text/x-python",
   "name": "python",
   "nbconvert_exporter": "python",
   "pygments_lexer": "ipython3",
   "version": "3.10.4"
  },
  "orig_nbformat": 4,
  "vscode": {
   "interpreter": {
    "hash": "a42ccb73e7d9bfdf27e036f1d2b8b681e55fc0743cc5586bc2474d4a60f4b886"
   }
  }
 },
 "nbformat": 4,
 "nbformat_minor": 2
}
