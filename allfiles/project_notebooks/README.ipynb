{
 "cells": [
  {
   "cell_type": "markdown",
   "metadata": {},
   "source": [
    "# Using GPT2 for Environment Day\n",
    "\n",
    "**Project overview**\n",
    "\n",
    "This project contains a natural language processing model that produces text about environment-related topics. It was built by finetiOpenAI’s GPT2 model.\n",
    "\n",
    "**Project outline and description**\n",
    "\n",
    "*Part 1: URL Scraping*\n",
    "\n",
    "The data for the model included articles on environment-related topics on the internet. In this section, the program obtained URL links to individual articles from large news pages.\n",
    "\n",
    "The selenium and BeautifulSoup module were used for this section. Selenium was used to launch a Chrome browser while the BeautifulSoup was used to collect the page source (HTML code) and scrape the URL from the source. Afterwards, the data was stored in a json file. \n",
    "\n",
    "*Part 2: Content Scraping*\n",
    "\n",
    "This section used the same modules and library in the previous section. Selenium was used to open a Chrome browser. The URLs from the previous section were loaded and then the BeautifulSoup function was used to scrape the contents of the article, including the article's title and text. These two things were stored as a dictionary and saved in a json file.\n",
    "\n",
    "* "
   ]
  }
 ],
 "metadata": {
  "language_info": {
   "name": "python"
  },
  "orig_nbformat": 4
 },
 "nbformat": 4,
 "nbformat_minor": 2
}
